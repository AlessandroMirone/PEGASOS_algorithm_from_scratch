{
 "cells": [
  {
   "cell_type": "markdown",
   "id": "f1f999b5",
   "metadata": {},
   "source": [
    "**Libraries**"
   ]
  },
  {
   "cell_type": "code",
   "execution_count": null,
   "id": "413bc68f",
   "metadata": {},
   "outputs": [],
   "source": [
    "#load data\n",
    "import h5py\n",
    "with h5py.File(r'your_directory\\usps.h5', 'r') as hf:\n",
    "        train = hf.get('train')\n",
    "        X_tr = train.get('data')[:]\n",
    "        y_tr = train.get('target')[:]\n",
    "        test = hf.get('test')\n",
    "        X_te = test.get('data')[:]\n",
    "        y_te = test.get('target')[:]"
   ]
  },
  {
   "cell_type": "code",
   "execution_count": null,
   "id": "3a6442b5",
   "metadata": {},
   "outputs": [],
   "source": [
    "import numpy as np\n",
    "import pandas as pd\n",
    "import random\n",
    "from copy import deepcopy"
   ]
  },
  {
   "cell_type": "code",
   "execution_count": null,
   "id": "24cc0114",
   "metadata": {},
   "outputs": [],
   "source": [
    "df=pd.DataFrame(np.concatenate((np.column_stack((X_tr,y_tr)),np.column_stack((X_te,y_te))), axis = 0))\n",
    "df"
   ]
  },
  {
   "cell_type": "markdown",
   "id": "3f315e85",
   "metadata": {},
   "source": [
    "**Auxiliary functions**"
   ]
  },
  {
   "cell_type": "code",
   "execution_count": null,
   "id": "d2dc5e01",
   "metadata": {},
   "outputs": [],
   "source": [
    "#FUNCTION for changing classificator\n",
    "def chg_pred(df,a):\n",
    "    bin_y = np.where(df.loc[:,256] == a, 1, -1)\n",
    "    df[257] = bin_y"
   ]
  },
  {
   "cell_type": "code",
   "execution_count": null,
   "id": "257337b1",
   "metadata": {},
   "outputs": [],
   "source": [
    "def sign(x): #sign function\n",
    "    if x > 0:\n",
    "        return 1\n",
    "    elif x == 0:\n",
    "        return 0\n",
    "    else:\n",
    "        return -1"
   ]
  },
  {
   "cell_type": "code",
   "execution_count": null,
   "id": "67080202",
   "metadata": {},
   "outputs": [],
   "source": [
    "#define the gaussian kernel function\n",
    "def gauss_k(gamma,a,b):\n",
    "    return np.exp((-1/2*gamma)*(np.linalg.norm((a-b), ord = 1)**2))"
   ]
  },
  {
   "cell_type": "code",
   "execution_count": null,
   "id": "02df83c2",
   "metadata": {},
   "outputs": [],
   "source": [
    "def assign_pred(df): #takes as input result arrays for the ten predictors (otp_train|otp_test)\n",
    "    return pd.DataFrame(df).T.idxmax(axis=1)"
   ]
  },
  {
   "cell_type": "code",
   "execution_count": null,
   "id": "a88b971c",
   "metadata": {},
   "outputs": [],
   "source": [
    "def comp_mc(df1,df2): #takes as input the training/test folds and the result of assign_pred and compute the average mc error\n",
    "    comp = df1.loc[:,256].reset_index(drop=True) == df2\n",
    "    errors_count = comp.value_counts().get(False, 0)\n",
    "    total_count = len(comp)\n",
    "    return errors_count/total_count #fraction of examples incorrectly classified"
   ]
  },
  {
   "cell_type": "markdown",
   "id": "cf0fc86c",
   "metadata": {},
   "source": [
    "**PEGASOS**"
   ]
  },
  {
   "cell_type": "code",
   "execution_count": null,
   "id": "e4d0501b",
   "metadata": {},
   "outputs": [],
   "source": [
    "#train pegasos\n",
    "def train_pegasos(df_train,T,lam):\n",
    "    t = 1\n",
    "    S = [] #list for examples classified incorrectly\n",
    "             \n",
    "    for i in range(T):\n",
    "        eta = 1/(lam*t) #update eta for the current iteration\n",
    "        sample = df_train.iloc[np.random.choice(len(df_train), replace=True, size = 1)] #draw an example\n",
    "        x_t = sample.iloc[0,0:256]\n",
    "        y_t = sample.iloc[0,257]\n",
    "        \n",
    "        g_list = [y_s * gauss_k(0.25, x_s, x_t) for y_s, x_s in S] #note that we are using bi-linearity of the inner product\n",
    "        g = eta * sum(g_list) #compute g using current eta factor    \n",
    "                \n",
    "        if y_t * g < 1: #check condition\n",
    "            S.append((y_t,x_t))    \n",
    "     \n",
    "        t += 1 #update counter\n",
    "    \n",
    "    return S\n",
    "#The algorithm returns the support vectors' set , used as input in the prediction"
   ]
  },
  {
   "cell_type": "code",
   "execution_count": null,
   "id": "c688e0b4",
   "metadata": {},
   "outputs": [],
   "source": [
    "def pred_pegasos(df, S):\n",
    "    pred_vec = np.repeat(0, len(df[256]))\n",
    "    \n",
    "    for i in range(len(df)):\n",
    "        x_t = df.iloc[i,0:256]\n",
    "        g_list = [y_s * gauss_k(0.25, x_s, x_t) for y_s, x_s in S]\n",
    "        g = sum(g_list)\n",
    "        \n",
    "        pred_vec[i] = sign(g)\n",
    "    \n",
    "    return pred_vec"
   ]
  },
  {
   "cell_type": "markdown",
   "id": "90eda567",
   "metadata": {},
   "source": [
    "**CV**"
   ]
  },
  {
   "cell_type": "code",
   "execution_count": null,
   "id": "27e22e6b",
   "metadata": {},
   "outputs": [],
   "source": [
    "lambdas = [1*10**-10, 1*10**-5, 1*10**-3, 1*10**-1, 1*10**5]\n",
    "iterations = [250, 500, 1000, 3500, 7438] \n",
    "\n",
    "S_h = list(np.repeat(0, 10)) #container for storing different sets of support vectors (one for each predictor h)\n",
    "otp_train = list(np.repeat(0, 10)) #lists for storing vectors of predictions for different predictors\n",
    "otp_test= list(np.repeat(0, 10))                                   \n",
    "cv_error = list(np.repeat(0, 10)) #lists for storing errors and results of cv \n",
    "cv_results = list(np.repeat(0, 9))\n",
    "\n",
    "df = df.sample(frac=1) #reshuffle\n",
    "folds = np.array_split(df, 5) #create folds\n",
    "\n",
    "indx = 0\n",
    "\n",
    "for lam in lambdas:\n",
    "    for T in iterations:\n",
    "        for f in range(5):\n",
    "            df_test = folds.pop(0) #take first element\n",
    "            df_test = df_test.reset_index(drop=True) #rearrange indexes\n",
    "            df_train = pd.DataFrame(np.concatenate((folds),axis = 0)) #concatenate other elements          \n",
    "                \n",
    "            for h in range(10):\n",
    "                df_train_copy = deepcopy(df_train)\n",
    "                df_test_copy = deepcopy(df_test)\n",
    "                chg_pred(df_train_copy, h)\n",
    "                chg_pred(df_test_copy, h)\n",
    "                \n",
    "                S_h[h] = (train_pegasos(df_train_copy,T,lam)) #train current predictor\n",
    "                otp_train[h] = pred_pegasos(df_train_copy, S_h[h]) #classify train with current predictor\n",
    "                otp_test[h] = pred_pegasos(df_test_copy, S_h[h]) #classify test with current predictor\n",
    "        \n",
    "            cv_error[f] = comp_mc(df_train_copy,assign_pred(otp_train)) #first five elements of cv_error are avg. fth fold's train error\n",
    "            cv_error[f+5] = comp_mc(df_test_copy,assign_pred(otp_test)) #second five elements of cv_error are avg. fth fold's test error\n",
    "    \n",
    "            folds.append(df_test) #append test fold in last position\n",
    "    \n",
    "        cv_results[indx] = (sum(cv_error[0:5])/5, sum(cv_error[5:10])/5)\n",
    "        indx += 1\n",
    "    "
   ]
  },
  {
   "cell_type": "markdown",
   "id": "0a5a0cc8",
   "metadata": {},
   "source": [
    "**Data visualization**"
   ]
  },
  {
   "cell_type": "code",
   "execution_count": null,
   "id": "0fe81932",
   "metadata": {},
   "outputs": [],
   "source": [
    "df = pd.DataFrame(cv_results)\n",
    "test_errors = df[1] \n",
    "train_errors = df[0]\n",
    "\n",
    "test= { 'lambda' : np.repeat([1*10**-10, 1*10**-5, 1*10**-3, 1*10**-1, 1*10**5], 5),\n",
    "     'Iterations' : [int(y) for y in [str(x) for x in [250, 500, 1000, 3500, 7438]]*5],\n",
    "     'Test_CV_error' : test_errors }\n",
    "test=pd.DataFrame(test)\n",
    "\n",
    "train= { 'lambda' : np.repeat([1*10**-10, 1*10**-5, 1*10**-3, 1*10**-1, 1*10**5], 5),\n",
    "     'Iterations' : [int(y) for y in [str(x) for x in [250, 500, 1000, 3500, 7438]]*5],\n",
    "     'Training_CV_error' : train_errors }\n",
    "train=pd.DataFrame(train)\n",
    "\n",
    "train=train.pivot(index='lambda',columns='Iterations',values='Training_CV_error')\n",
    "test=test.pivot(index='lambda',columns='Iterations',values='Test_CV_error')\n"
   ]
  },
  {
   "cell_type": "code",
   "execution_count": null,
   "id": "50a7bfb9",
   "metadata": {},
   "outputs": [],
   "source": [
    "from IPython.display import display_html\n",
    "import seaborn as sns\n",
    "\n",
    "train_styler = train.style.set_table_attributes(\"style='display:inline'\").set_caption('Training CV errors').format_index(formatter = lambda x: '%.2e' % x ).background_gradient(cmap= \"hot\")\n",
    "test_styler = test.style.set_table_attributes(\"style='display:inline'\").set_caption('Test CV Errors').format_index(formatter = lambda x: '%.2e' % x ).background_gradient(cmap= \"hot\")\n",
    "\n",
    "display_html(train_styler._repr_html_() + test_styler._repr_html_(), raw=True)"
   ]
  },
  {
   "cell_type": "code",
   "execution_count": null,
   "id": "345828fd",
   "metadata": {},
   "outputs": [],
   "source": [
    "import matplotlib.pyplot as plt\n",
    "%matplotlib inline\n",
    "sns.heatmap(pd.DataFrame(test), annot = True, fmt='g', cmap= \"hot\", )\n",
    "plt.title('Test CV Errors', fontsize = 12)"
   ]
  }
 ],
 "metadata": {
  "kernelspec": {
   "display_name": "Python 3 (ipykernel)",
   "language": "python",
   "name": "python3"
  },
  "language_info": {
   "codemirror_mode": {
    "name": "ipython",
    "version": 3
   },
   "file_extension": ".py",
   "mimetype": "text/x-python",
   "name": "python",
   "nbconvert_exporter": "python",
   "pygments_lexer": "ipython3",
   "version": "3.9.12"
  }
 },
 "nbformat": 4,
 "nbformat_minor": 5
}
